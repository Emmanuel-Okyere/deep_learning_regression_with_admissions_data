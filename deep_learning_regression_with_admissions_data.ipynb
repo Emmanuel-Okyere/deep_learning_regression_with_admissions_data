{
 "cells": [
  {
   "cell_type": "code",
   "execution_count": 2,
   "id": "b67ff39d",
   "metadata": {},
   "outputs": [],
   "source": [
    "import pandas as pd\n",
    "import numpy as np\n",
    "import matplotlib.pyplot as plt\n",
    "\n",
    "import tensorflow as tf\n",
    "from tensorflow\timport keras\n",
    "from tensorflow.keras.models import Sequential\n",
    "from tensorflow.keras.callbacks import EarlyStopping\n",
    "from tensorflow.keras import layers\n",
    "\n",
    "from sklearn.model_selection import train_test_split\n",
    "from sklearn.preprocessing import StandardScaler\n",
    "from sklearn.preprocessing import Normalizer\n",
    "from sklearn.metrics import r2_score"
   ]
  },
  {
   "cell_type": "code",
   "execution_count": 3,
   "id": "ff55211d",
   "metadata": {},
   "outputs": [
    {
     "data": {
      "text/html": [
       "<div>\n",
       "<style scoped>\n",
       "    .dataframe tbody tr th:only-of-type {\n",
       "        vertical-align: middle;\n",
       "    }\n",
       "\n",
       "    .dataframe tbody tr th {\n",
       "        vertical-align: top;\n",
       "    }\n",
       "\n",
       "    .dataframe thead th {\n",
       "        text-align: right;\n",
       "    }\n",
       "</style>\n",
       "<table border=\"1\" class=\"dataframe\">\n",
       "  <thead>\n",
       "    <tr style=\"text-align: right;\">\n",
       "      <th></th>\n",
       "      <th>Serial No.</th>\n",
       "      <th>GRE Score</th>\n",
       "      <th>TOEFL Score</th>\n",
       "      <th>University Rating</th>\n",
       "      <th>SOP</th>\n",
       "      <th>LOR</th>\n",
       "      <th>CGPA</th>\n",
       "      <th>Research</th>\n",
       "      <th>Chance of Admit</th>\n",
       "    </tr>\n",
       "  </thead>\n",
       "  <tbody>\n",
       "    <tr>\n",
       "      <th>0</th>\n",
       "      <td>1</td>\n",
       "      <td>337</td>\n",
       "      <td>118</td>\n",
       "      <td>4</td>\n",
       "      <td>4.5</td>\n",
       "      <td>4.5</td>\n",
       "      <td>9.65</td>\n",
       "      <td>1</td>\n",
       "      <td>0.92</td>\n",
       "    </tr>\n",
       "    <tr>\n",
       "      <th>1</th>\n",
       "      <td>2</td>\n",
       "      <td>324</td>\n",
       "      <td>107</td>\n",
       "      <td>4</td>\n",
       "      <td>4.0</td>\n",
       "      <td>4.5</td>\n",
       "      <td>8.87</td>\n",
       "      <td>1</td>\n",
       "      <td>0.76</td>\n",
       "    </tr>\n",
       "    <tr>\n",
       "      <th>2</th>\n",
       "      <td>3</td>\n",
       "      <td>316</td>\n",
       "      <td>104</td>\n",
       "      <td>3</td>\n",
       "      <td>3.0</td>\n",
       "      <td>3.5</td>\n",
       "      <td>8.00</td>\n",
       "      <td>1</td>\n",
       "      <td>0.72</td>\n",
       "    </tr>\n",
       "    <tr>\n",
       "      <th>3</th>\n",
       "      <td>4</td>\n",
       "      <td>322</td>\n",
       "      <td>110</td>\n",
       "      <td>3</td>\n",
       "      <td>3.5</td>\n",
       "      <td>2.5</td>\n",
       "      <td>8.67</td>\n",
       "      <td>1</td>\n",
       "      <td>0.80</td>\n",
       "    </tr>\n",
       "    <tr>\n",
       "      <th>4</th>\n",
       "      <td>5</td>\n",
       "      <td>314</td>\n",
       "      <td>103</td>\n",
       "      <td>2</td>\n",
       "      <td>2.0</td>\n",
       "      <td>3.0</td>\n",
       "      <td>8.21</td>\n",
       "      <td>0</td>\n",
       "      <td>0.65</td>\n",
       "    </tr>\n",
       "  </tbody>\n",
       "</table>\n",
       "</div>"
      ],
      "text/plain": [
       "   Serial No.  GRE Score  TOEFL Score  University Rating  SOP  LOR   CGPA  \\\n",
       "0           1        337          118                  4  4.5   4.5  9.65   \n",
       "1           2        324          107                  4  4.0   4.5  8.87   \n",
       "2           3        316          104                  3  3.0   3.5  8.00   \n",
       "3           4        322          110                  3  3.5   2.5  8.67   \n",
       "4           5        314          103                  2  2.0   3.0  8.21   \n",
       "\n",
       "   Research  Chance of Admit   \n",
       "0         1              0.92  \n",
       "1         1              0.76  \n",
       "2         1              0.72  \n",
       "3         1              0.80  \n",
       "4         0              0.65  "
      ]
     },
     "execution_count": 3,
     "metadata": {},
     "output_type": "execute_result"
    }
   ],
   "source": [
    "# load admissions data\n",
    "admissions_data = pd.read_csv(\"admissions_data.csv\")\n",
    "admissions_data.head()\n"
   ]
  },
  {
   "cell_type": "code",
   "execution_count": 4,
   "id": "4f820ecc",
   "metadata": {},
   "outputs": [
    {
     "data": {
      "text/plain": [
       "count    500.00000\n",
       "mean       0.72174\n",
       "std        0.14114\n",
       "min        0.34000\n",
       "25%        0.63000\n",
       "50%        0.72000\n",
       "75%        0.82000\n",
       "max        0.97000\n",
       "Name: Chance of Admit , dtype: float64"
      ]
     },
     "execution_count": 4,
     "metadata": {},
     "output_type": "execute_result"
    }
   ],
   "source": [
    "# mark predicted values\n",
    "labels = admissions_data.iloc[:,-1]\n",
    "labels.describe()\n"
   ]
  },
  {
   "cell_type": "code",
   "execution_count": 7,
   "id": "884114e3",
   "metadata": {},
   "outputs": [],
   "source": [
    "# mark features\n",
    "features = admissions_data.iloc[:, 1:8]\n"
   ]
  },
  {
   "cell_type": "code",
   "execution_count": 8,
   "id": "907d7ea0",
   "metadata": {},
   "outputs": [],
   "source": [
    "#split our training and test set\n",
    "features_train, features_test, labels_train, labels_test = train_test_split(features, labels, test_size=0.25, random_state = 42)\n"
   ]
  },
  {
   "cell_type": "code",
   "execution_count": 9,
   "id": "cc2e8516",
   "metadata": {},
   "outputs": [],
   "source": [
    "# standardizing our data by scaling it\n",
    "sc = StandardScaler()\n",
    "features_train_scale = sc.fit_transform(features_train)\n",
    "features_test_scale = sc.transform(features_test)\n"
   ]
  },
  {
   "cell_type": "code",
   "execution_count": 10,
   "id": "5c47c622",
   "metadata": {},
   "outputs": [],
   "source": [
    "# function to design the model\n",
    "def design_model(feature_data):\n",
    "\tmodel = Sequential()\n",
    "\tnum_features = feature_data.shape[1]\n",
    "\tinput = tf.keras.Input(shape=(num_features))\n",
    "\tmodel.add(input)\n",
    "\t# this model has two hidden layers and two dropout layers\n",
    "\t# relu activation function is used at both hidden layers\n",
    "\thidden_layer = layers.Dense(16, activation='relu')\n",
    "\tmodel.add(hidden_layer)\n",
    "\tmodel.add(layers.Dropout(0.1))\n",
    "\thidden_layer_2 = layers.Dense(8, activation='relu')\n",
    "\tmodel.add(hidden_layer_2)\n",
    "\tmodel.add(layers.Dropout(0.2))\n",
    "\tmodel.add(layers.Dense(1))\n",
    "\n",
    "\t# using an adam optimizer with a learning rate of 0.005\n",
    "\t# using mean-squared error as our loss function and mean average error as our metric\n",
    "\topt = keras.optimizers.Adam(learning_rate=0.005)\n",
    "\tmodel.compile(loss='mse', metrics=['mae'], optimizer=opt)\n",
    "\treturn model\n"
   ]
  },
  {
   "cell_type": "code",
   "execution_count": 11,
   "id": "3eb2d73e",
   "metadata": {},
   "outputs": [
    {
     "name": "stdout",
     "output_type": "stream",
     "text": [
      "Model: \"sequential\"\n",
      "_________________________________________________________________\n",
      " Layer (type)                Output Shape              Param #   \n",
      "=================================================================\n",
      " dense (Dense)               (None, 16)                128       \n",
      "                                                                 \n",
      " dropout (Dropout)           (None, 16)                0         \n",
      "                                                                 \n",
      " dense_1 (Dense)             (None, 8)                 136       \n",
      "                                                                 \n",
      " dropout_1 (Dropout)         (None, 8)                 0         \n",
      "                                                                 \n",
      " dense_2 (Dense)             (None, 1)                 9         \n",
      "                                                                 \n",
      "=================================================================\n",
      "Total params: 273\n",
      "Trainable params: 273\n",
      "Non-trainable params: 0\n",
      "_________________________________________________________________\n"
     ]
    }
   ],
   "source": [
    "model = design_model(features_train_scale)\n",
    "model.summary()\n"
   ]
  },
  {
   "cell_type": "code",
   "execution_count": 9,
   "id": "0acb0f7f",
   "metadata": {},
   "outputs": [],
   "source": [
    "# apply early stopping for efficiency\n",
    "es = EarlyStopping(monitor='val_loss', mode='min', verbose=1, patience=20)\n"
   ]
  },
  {
   "cell_type": "code",
   "execution_count": 10,
   "id": "99e236c2",
   "metadata": {
    "scrolled": false
   },
   "outputs": [
    {
     "name": "stdout",
     "output_type": "stream",
     "text": [
      "Epoch 1/100\n",
      "36/36 [==============================] - 2s 13ms/step - loss: 0.1951 - mae: 0.3531 - val_loss: 0.0737 - val_mae: 0.2273\n",
      "Epoch 2/100\n",
      "36/36 [==============================] - 0s 4ms/step - loss: 0.0770 - mae: 0.2121 - val_loss: 0.0350 - val_mae: 0.1583\n",
      "Epoch 3/100\n",
      "36/36 [==============================] - 0s 4ms/step - loss: 0.0592 - mae: 0.1897 - val_loss: 0.0206 - val_mae: 0.1168\n",
      "Epoch 4/100\n",
      "36/36 [==============================] - 0s 3ms/step - loss: 0.0367 - mae: 0.1558 - val_loss: 0.0193 - val_mae: 0.1147\n",
      "Epoch 5/100\n",
      "36/36 [==============================] - 0s 2ms/step - loss: 0.0296 - mae: 0.1359 - val_loss: 0.0182 - val_mae: 0.1162\n",
      "Epoch 6/100\n",
      "36/36 [==============================] - 0s 2ms/step - loss: 0.0262 - mae: 0.1286 - val_loss: 0.0106 - val_mae: 0.0841\n",
      "Epoch 7/100\n",
      "36/36 [==============================] - 0s 3ms/step - loss: 0.0239 - mae: 0.1208 - val_loss: 0.0106 - val_mae: 0.0843\n",
      "Epoch 8/100\n",
      "36/36 [==============================] - 0s 5ms/step - loss: 0.0178 - mae: 0.1071 - val_loss: 0.0076 - val_mae: 0.0683\n",
      "Epoch 9/100\n",
      "36/36 [==============================] - 0s 5ms/step - loss: 0.0155 - mae: 0.1002 - val_loss: 0.0085 - val_mae: 0.0750\n",
      "Epoch 10/100\n",
      "36/36 [==============================] - 0s 4ms/step - loss: 0.0166 - mae: 0.1033 - val_loss: 0.0085 - val_mae: 0.0775\n",
      "Epoch 11/100\n",
      "36/36 [==============================] - 0s 3ms/step - loss: 0.0139 - mae: 0.0946 - val_loss: 0.0066 - val_mae: 0.0645\n",
      "Epoch 12/100\n",
      "36/36 [==============================] - 0s 4ms/step - loss: 0.0118 - mae: 0.0883 - val_loss: 0.0065 - val_mae: 0.0645\n",
      "Epoch 13/100\n",
      "36/36 [==============================] - 0s 5ms/step - loss: 0.0125 - mae: 0.0897 - val_loss: 0.0067 - val_mae: 0.0630\n",
      "Epoch 14/100\n",
      "36/36 [==============================] - 0s 5ms/step - loss: 0.0128 - mae: 0.0885 - val_loss: 0.0089 - val_mae: 0.0802\n",
      "Epoch 15/100\n",
      "36/36 [==============================] - 0s 4ms/step - loss: 0.0116 - mae: 0.0825 - val_loss: 0.0068 - val_mae: 0.0658\n",
      "Epoch 16/100\n",
      "36/36 [==============================] - 0s 4ms/step - loss: 0.0106 - mae: 0.0800 - val_loss: 0.0089 - val_mae: 0.0799\n",
      "Epoch 17/100\n",
      "36/36 [==============================] - 0s 4ms/step - loss: 0.0094 - mae: 0.0764 - val_loss: 0.0079 - val_mae: 0.0752\n",
      "Epoch 18/100\n",
      "36/36 [==============================] - 0s 4ms/step - loss: 0.0090 - mae: 0.0758 - val_loss: 0.0063 - val_mae: 0.0615\n",
      "Epoch 19/100\n",
      "36/36 [==============================] - 0s 4ms/step - loss: 0.0093 - mae: 0.0771 - val_loss: 0.0068 - val_mae: 0.0676\n",
      "Epoch 20/100\n",
      "36/36 [==============================] - 0s 3ms/step - loss: 0.0090 - mae: 0.0736 - val_loss: 0.0061 - val_mae: 0.0619\n",
      "Epoch 21/100\n",
      "36/36 [==============================] - 0s 3ms/step - loss: 0.0087 - mae: 0.0742 - val_loss: 0.0062 - val_mae: 0.0630\n",
      "Epoch 22/100\n",
      "36/36 [==============================] - 0s 3ms/step - loss: 0.0087 - mae: 0.0729 - val_loss: 0.0056 - val_mae: 0.0557\n",
      "Epoch 23/100\n",
      "36/36 [==============================] - 0s 3ms/step - loss: 0.0084 - mae: 0.0714 - val_loss: 0.0054 - val_mae: 0.0540\n",
      "Epoch 24/100\n",
      "36/36 [==============================] - 0s 3ms/step - loss: 0.0093 - mae: 0.0749 - val_loss: 0.0076 - val_mae: 0.0736\n",
      "Epoch 25/100\n",
      "36/36 [==============================] - 0s 3ms/step - loss: 0.0096 - mae: 0.0758 - val_loss: 0.0059 - val_mae: 0.0598\n",
      "Epoch 26/100\n",
      "36/36 [==============================] - 0s 3ms/step - loss: 0.0091 - mae: 0.0753 - val_loss: 0.0060 - val_mae: 0.0633\n",
      "Epoch 27/100\n",
      "36/36 [==============================] - 0s 3ms/step - loss: 0.0088 - mae: 0.0740 - val_loss: 0.0065 - val_mae: 0.0679\n",
      "Epoch 28/100\n",
      "36/36 [==============================] - 0s 3ms/step - loss: 0.0084 - mae: 0.0704 - val_loss: 0.0058 - val_mae: 0.0600\n",
      "Epoch 29/100\n",
      "36/36 [==============================] - 0s 3ms/step - loss: 0.0097 - mae: 0.0757 - val_loss: 0.0063 - val_mae: 0.0638\n",
      "Epoch 30/100\n",
      "36/36 [==============================] - 0s 4ms/step - loss: 0.0077 - mae: 0.0672 - val_loss: 0.0063 - val_mae: 0.0658\n",
      "Epoch 31/100\n",
      "36/36 [==============================] - 0s 5ms/step - loss: 0.0079 - mae: 0.0696 - val_loss: 0.0084 - val_mae: 0.0800\n",
      "Epoch 32/100\n",
      "36/36 [==============================] - 0s 3ms/step - loss: 0.0078 - mae: 0.0689 - val_loss: 0.0052 - val_mae: 0.0571\n",
      "Epoch 33/100\n",
      "36/36 [==============================] - 0s 4ms/step - loss: 0.0084 - mae: 0.0714 - val_loss: 0.0060 - val_mae: 0.0647\n",
      "Epoch 34/100\n",
      "36/36 [==============================] - 0s 4ms/step - loss: 0.0078 - mae: 0.0691 - val_loss: 0.0053 - val_mae: 0.0586\n",
      "Epoch 35/100\n",
      "36/36 [==============================] - 0s 4ms/step - loss: 0.0081 - mae: 0.0710 - val_loss: 0.0049 - val_mae: 0.0546\n",
      "Epoch 36/100\n",
      "36/36 [==============================] - 0s 4ms/step - loss: 0.0084 - mae: 0.0723 - val_loss: 0.0047 - val_mae: 0.0525\n",
      "Epoch 37/100\n",
      "36/36 [==============================] - 0s 4ms/step - loss: 0.0077 - mae: 0.0671 - val_loss: 0.0052 - val_mae: 0.0580\n",
      "Epoch 38/100\n",
      "36/36 [==============================] - 0s 4ms/step - loss: 0.0081 - mae: 0.0688 - val_loss: 0.0051 - val_mae: 0.0568\n",
      "Epoch 39/100\n",
      "36/36 [==============================] - 0s 4ms/step - loss: 0.0081 - mae: 0.0700 - val_loss: 0.0045 - val_mae: 0.0508\n",
      "Epoch 40/100\n",
      "36/36 [==============================] - 0s 4ms/step - loss: 0.0069 - mae: 0.0637 - val_loss: 0.0062 - val_mae: 0.0668\n",
      "Epoch 41/100\n",
      "36/36 [==============================] - 0s 3ms/step - loss: 0.0082 - mae: 0.0708 - val_loss: 0.0047 - val_mae: 0.0533\n",
      "Epoch 42/100\n",
      "36/36 [==============================] - 0s 5ms/step - loss: 0.0066 - mae: 0.0629 - val_loss: 0.0052 - val_mae: 0.0591\n",
      "Epoch 43/100\n",
      "36/36 [==============================] - 0s 5ms/step - loss: 0.0079 - mae: 0.0685 - val_loss: 0.0050 - val_mae: 0.0566\n",
      "Epoch 44/100\n",
      "36/36 [==============================] - 0s 5ms/step - loss: 0.0074 - mae: 0.0671 - val_loss: 0.0048 - val_mae: 0.0555\n",
      "Epoch 45/100\n",
      "36/36 [==============================] - 0s 4ms/step - loss: 0.0076 - mae: 0.0661 - val_loss: 0.0049 - val_mae: 0.0552\n",
      "Epoch 46/100\n",
      "36/36 [==============================] - 0s 4ms/step - loss: 0.0077 - mae: 0.0691 - val_loss: 0.0051 - val_mae: 0.0576\n",
      "Epoch 47/100\n",
      "36/36 [==============================] - 0s 4ms/step - loss: 0.0074 - mae: 0.0675 - val_loss: 0.0057 - val_mae: 0.0631\n",
      "Epoch 48/100\n",
      "36/36 [==============================] - 0s 3ms/step - loss: 0.0069 - mae: 0.0641 - val_loss: 0.0042 - val_mae: 0.0482\n",
      "Epoch 49/100\n",
      "36/36 [==============================] - 0s 3ms/step - loss: 0.0079 - mae: 0.0685 - val_loss: 0.0049 - val_mae: 0.0551\n",
      "Epoch 50/100\n",
      "36/36 [==============================] - 0s 5ms/step - loss: 0.0083 - mae: 0.0708 - val_loss: 0.0079 - val_mae: 0.0762\n",
      "Epoch 51/100\n",
      "36/36 [==============================] - 0s 4ms/step - loss: 0.0082 - mae: 0.0717 - val_loss: 0.0057 - val_mae: 0.0616\n",
      "Epoch 52/100\n",
      "36/36 [==============================] - 0s 4ms/step - loss: 0.0075 - mae: 0.0662 - val_loss: 0.0050 - val_mae: 0.0552\n",
      "Epoch 53/100\n",
      "36/36 [==============================] - 0s 4ms/step - loss: 0.0073 - mae: 0.0677 - val_loss: 0.0044 - val_mae: 0.0501\n",
      "Epoch 54/100\n",
      "36/36 [==============================] - 0s 3ms/step - loss: 0.0070 - mae: 0.0634 - val_loss: 0.0048 - val_mae: 0.0563\n",
      "Epoch 55/100\n",
      "36/36 [==============================] - 0s 2ms/step - loss: 0.0073 - mae: 0.0654 - val_loss: 0.0041 - val_mae: 0.0466\n",
      "Epoch 56/100\n",
      "36/36 [==============================] - 0s 3ms/step - loss: 0.0079 - mae: 0.0677 - val_loss: 0.0046 - val_mae: 0.0499\n",
      "Epoch 57/100\n",
      "36/36 [==============================] - 0s 4ms/step - loss: 0.0075 - mae: 0.0671 - val_loss: 0.0043 - val_mae: 0.0478\n",
      "Epoch 58/100\n",
      "36/36 [==============================] - 0s 4ms/step - loss: 0.0068 - mae: 0.0633 - val_loss: 0.0052 - val_mae: 0.0569\n",
      "Epoch 59/100\n",
      "36/36 [==============================] - 0s 4ms/step - loss: 0.0081 - mae: 0.0690 - val_loss: 0.0046 - val_mae: 0.0494\n",
      "Epoch 60/100\n",
      "36/36 [==============================] - 0s 4ms/step - loss: 0.0069 - mae: 0.0629 - val_loss: 0.0048 - val_mae: 0.0525\n",
      "Epoch 61/100\n",
      "36/36 [==============================] - 0s 4ms/step - loss: 0.0074 - mae: 0.0660 - val_loss: 0.0052 - val_mae: 0.0573\n",
      "Epoch 62/100\n",
      "36/36 [==============================] - 0s 4ms/step - loss: 0.0078 - mae: 0.0666 - val_loss: 0.0049 - val_mae: 0.0557\n",
      "Epoch 63/100\n",
      "36/36 [==============================] - 0s 4ms/step - loss: 0.0073 - mae: 0.0649 - val_loss: 0.0056 - val_mae: 0.0619\n",
      "Epoch 64/100\n",
      "36/36 [==============================] - 0s 4ms/step - loss: 0.0069 - mae: 0.0633 - val_loss: 0.0042 - val_mae: 0.0471\n",
      "Epoch 65/100\n",
      "36/36 [==============================] - 0s 4ms/step - loss: 0.0071 - mae: 0.0646 - val_loss: 0.0049 - val_mae: 0.0550\n",
      "Epoch 66/100\n",
      "36/36 [==============================] - 0s 4ms/step - loss: 0.0077 - mae: 0.0675 - val_loss: 0.0049 - val_mae: 0.0539\n",
      "Epoch 67/100\n",
      "36/36 [==============================] - 0s 4ms/step - loss: 0.0071 - mae: 0.0665 - val_loss: 0.0049 - val_mae: 0.0538\n",
      "Epoch 68/100\n",
      "36/36 [==============================] - 0s 3ms/step - loss: 0.0077 - mae: 0.0696 - val_loss: 0.0048 - val_mae: 0.0522\n",
      "Epoch 69/100\n",
      "36/36 [==============================] - 0s 5ms/step - loss: 0.0067 - mae: 0.0614 - val_loss: 0.0047 - val_mae: 0.0527\n",
      "Epoch 70/100\n",
      "36/36 [==============================] - 0s 4ms/step - loss: 0.0070 - mae: 0.0645 - val_loss: 0.0064 - val_mae: 0.0678\n",
      "Epoch 71/100\n",
      "36/36 [==============================] - 0s 5ms/step - loss: 0.0066 - mae: 0.0625 - val_loss: 0.0045 - val_mae: 0.0507\n",
      "Epoch 72/100\n",
      "36/36 [==============================] - 0s 5ms/step - loss: 0.0068 - mae: 0.0628 - val_loss: 0.0052 - val_mae: 0.0587\n",
      "Epoch 73/100\n",
      "36/36 [==============================] - 0s 4ms/step - loss: 0.0064 - mae: 0.0619 - val_loss: 0.0056 - val_mae: 0.0617\n",
      "Epoch 74/100\n",
      "36/36 [==============================] - 0s 4ms/step - loss: 0.0068 - mae: 0.0645 - val_loss: 0.0052 - val_mae: 0.0578\n",
      "Epoch 75/100\n",
      "36/36 [==============================] - 0s 3ms/step - loss: 0.0074 - mae: 0.0664 - val_loss: 0.0046 - val_mae: 0.0510\n",
      "Epoch 75: early stopping\n"
     ]
    }
   ],
   "source": [
    "# fit the model with 100 epochs and a batch size of 8\n",
    "# validation split at 0.25\n",
    "history = model.fit(features_train_scale, labels_train.to_numpy(), epochs=100, batch_size=8, verbose=1, validation_split=0.25, callbacks=[es])\n",
    "\n"
   ]
  },
  {
   "cell_type": "code",
   "execution_count": 11,
   "id": "02b1c213",
   "metadata": {},
   "outputs": [
    {
     "name": "stdout",
     "output_type": "stream",
     "text": [
      "MAE:  0.05353236570954323\n"
     ]
    }
   ],
   "source": [
    "# evaluate the model\n",
    "val_mse, val_mae = model.evaluate(features_test_scale, labels_test.to_numpy(), verbose = 0)\n",
    "\n",
    "# view the MAE performance\n",
    "print(\"MAE: \", val_mae)"
   ]
  },
  {
   "cell_type": "code",
   "execution_count": 12,
   "id": "5f831645",
   "metadata": {},
   "outputs": [
    {
     "name": "stdout",
     "output_type": "stream",
     "text": [
      "0.753496188744216\n"
     ]
    }
   ],
   "source": [
    "# evauate r-squared score\n",
    "y_pred = model.predict(features_test_scale)\n",
    "\n",
    "print(r2_score(labels_test,y_pred))\n"
   ]
  },
  {
   "cell_type": "code",
   "execution_count": 15,
   "id": "c8856f1e",
   "metadata": {},
   "outputs": [
    {
     "data": {
      "image/png": "[encoded data removed]",
      "text/plain": [
       "<Figure size 432x288 with 2 Axes>"
      ]
     },
     "metadata": {
      "needs_background": "light"
     },
     "output_type": "display_data"
    }
   ],
   "source": [
    "# plot MAE and val_MAE over each epoch\n",
    "fig = plt.figure()\n",
    "ax1 = fig.add_subplot(2, 1, 1)\n",
    "ax1.plot(history.history['mae'])\n",
    "ax1.plot(history.history['val_mae'])\n",
    "ax1.set_title('model mae')\n",
    "ax1.set_ylabel('MAE')\n",
    "ax1.set_xlabel('epoch')\n",
    "ax1.legend(['train', 'validation'], loc='upper left')\n",
    "# Plot loss and val_loss over each epoch\n",
    "ax2 = fig.add_subplot(2, 1, 2)\n",
    "ax2.plot(history.history['loss'])\n",
    "ax2.plot(history.history['val_loss'])\n",
    "ax2.set_title('model loss')\n",
    "ax2.set_ylabel('loss')\n",
    "ax2.set_xlabel('epoch')\n",
    "ax2.legend(['train', 'validation'], loc='upper left')\n",
    "\n",
    "plt.show()"
   ]
  },
  {
   "cell_type": "code",
   "execution_count": 14,
   "id": "2b856b91",
   "metadata": {},
   "outputs": [],
   "source": []
  },
  {
   "cell_type": "code",
   "execution_count": null,
   "id": "1af197f1",
   "metadata": {},
   "outputs": [],
   "source": []
  }
 ],
 "metadata": {
  "kernelspec": {
   "display_name": "Python 3 (ipykernel)",
   "language": "python",
   "name": "python3"
  },
  "language_info": {
   "codemirror_mode": {
    "name": "ipython",
    "version": 3
   },
   "file_extension": ".py",
   "mimetype": "text/x-python",
   "name": "python",
   "nbconvert_exporter": "python",
   "pygments_lexer": "ipython3",
   "version": "3.9.7"
  }
 },
 "nbformat": 4,
 "nbformat_minor": 5
}
